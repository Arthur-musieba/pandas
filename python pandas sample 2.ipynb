{
 "cells": [
  {
   "cell_type": "code",
   "execution_count": 1,
   "id": "31702c05",
   "metadata": {},
   "outputs": [],
   "source": [
    "import pandas as pd"
   ]
  },
  {
   "cell_type": "code",
   "execution_count": 3,
   "id": "580d5a3b",
   "metadata": {},
   "outputs": [],
   "source": [
    "import matplotlib.pyplot as plt"
   ]
  },
  {
   "cell_type": "code",
   "execution_count": 7,
   "id": "de1b3781",
   "metadata": {},
   "outputs": [],
   "source": [
    "df=pd.read_csv(r\"vgsales.csv\")"
   ]
  },
  {
   "cell_type": "code",
   "execution_count": 8,
   "id": "fe62a405",
   "metadata": {},
   "outputs": [
    {
     "data": {
      "text/html": [
       "<div>\n",
       "<style scoped>\n",
       "    .dataframe tbody tr th:only-of-type {\n",
       "        vertical-align: middle;\n",
       "    }\n",
       "\n",
       "    .dataframe tbody tr th {\n",
       "        vertical-align: top;\n",
       "    }\n",
       "\n",
       "    .dataframe thead th {\n",
       "        text-align: right;\n",
       "    }\n",
       "</style>\n",
       "<table border=\"1\" class=\"dataframe\">\n",
       "  <thead>\n",
       "    <tr style=\"text-align: right;\">\n",
       "      <th></th>\n",
       "      <th>Rank</th>\n",
       "      <th>Name</th>\n",
       "      <th>Year</th>\n",
       "      <th>NA_Sales</th>\n",
       "      <th>EU_Sales</th>\n",
       "      <th>JP_Sales</th>\n",
       "      <th>Other_Sales</th>\n",
       "      <th>Global_Sales</th>\n",
       "    </tr>\n",
       "  </thead>\n",
       "  <tbody>\n",
       "    <tr>\n",
       "      <th>0</th>\n",
       "      <td>1</td>\n",
       "      <td>Wii Sports</td>\n",
       "      <td>2006.0</td>\n",
       "      <td>41.49</td>\n",
       "      <td>29.02</td>\n",
       "      <td>3.77</td>\n",
       "      <td>8.46</td>\n",
       "      <td>82.74</td>\n",
       "    </tr>\n",
       "    <tr>\n",
       "      <th>1</th>\n",
       "      <td>2</td>\n",
       "      <td>Super Mario Bros.</td>\n",
       "      <td>1985.0</td>\n",
       "      <td>29.08</td>\n",
       "      <td>3.58</td>\n",
       "      <td>6.81</td>\n",
       "      <td>0.77</td>\n",
       "      <td>40.24</td>\n",
       "    </tr>\n",
       "    <tr>\n",
       "      <th>2</th>\n",
       "      <td>3</td>\n",
       "      <td>Mario Kart Wii</td>\n",
       "      <td>2008.0</td>\n",
       "      <td>15.85</td>\n",
       "      <td>12.88</td>\n",
       "      <td>3.79</td>\n",
       "      <td>3.31</td>\n",
       "      <td>35.82</td>\n",
       "    </tr>\n",
       "    <tr>\n",
       "      <th>3</th>\n",
       "      <td>4</td>\n",
       "      <td>Wii Sports Resort</td>\n",
       "      <td>2009.0</td>\n",
       "      <td>15.75</td>\n",
       "      <td>11.01</td>\n",
       "      <td>3.28</td>\n",
       "      <td>2.96</td>\n",
       "      <td>33.00</td>\n",
       "    </tr>\n",
       "    <tr>\n",
       "      <th>4</th>\n",
       "      <td>5</td>\n",
       "      <td>Pokemon Red/Pokemon Blue</td>\n",
       "      <td>1996.0</td>\n",
       "      <td>11.27</td>\n",
       "      <td>8.89</td>\n",
       "      <td>10.22</td>\n",
       "      <td>1.00</td>\n",
       "      <td>31.37</td>\n",
       "    </tr>\n",
       "  </tbody>\n",
       "</table>\n",
       "</div>"
      ],
      "text/plain": [
       "   Rank                      Name    Year  NA_Sales  EU_Sales  JP_Sales  \\\n",
       "0     1                Wii Sports  2006.0     41.49     29.02      3.77   \n",
       "1     2         Super Mario Bros.  1985.0     29.08      3.58      6.81   \n",
       "2     3            Mario Kart Wii  2008.0     15.85     12.88      3.79   \n",
       "3     4         Wii Sports Resort  2009.0     15.75     11.01      3.28   \n",
       "4     5  Pokemon Red/Pokemon Blue  1996.0     11.27      8.89     10.22   \n",
       "\n",
       "   Other_Sales  Global_Sales  \n",
       "0         8.46         82.74  \n",
       "1         0.77         40.24  \n",
       "2         3.31         35.82  \n",
       "3         2.96         33.00  \n",
       "4         1.00         31.37  "
      ]
     },
     "execution_count": 8,
     "metadata": {},
     "output_type": "execute_result"
    }
   ],
   "source": [
    "df.head()"
   ]
  },
  {
   "cell_type": "code",
   "execution_count": 9,
   "id": "ed2b862a",
   "metadata": {},
   "outputs": [
    {
     "data": {
      "text/html": [
       "<div>\n",
       "<style scoped>\n",
       "    .dataframe tbody tr th:only-of-type {\n",
       "        vertical-align: middle;\n",
       "    }\n",
       "\n",
       "    .dataframe tbody tr th {\n",
       "        vertical-align: top;\n",
       "    }\n",
       "\n",
       "    .dataframe thead th {\n",
       "        text-align: right;\n",
       "    }\n",
       "</style>\n",
       "<table border=\"1\" class=\"dataframe\">\n",
       "  <thead>\n",
       "    <tr style=\"text-align: right;\">\n",
       "      <th></th>\n",
       "      <th>Rank</th>\n",
       "      <th>Name</th>\n",
       "      <th>Year</th>\n",
       "      <th>NA_Sales</th>\n",
       "      <th>EU_Sales</th>\n",
       "      <th>JP_Sales</th>\n",
       "      <th>Other_Sales</th>\n",
       "      <th>Global_Sales</th>\n",
       "    </tr>\n",
       "  </thead>\n",
       "  <tbody>\n",
       "    <tr>\n",
       "      <th>16593</th>\n",
       "      <td>16596</td>\n",
       "      <td>Woody Woodpecker in Crazy Castle 5</td>\n",
       "      <td>2002.0</td>\n",
       "      <td>0.01</td>\n",
       "      <td>0.00</td>\n",
       "      <td>0.0</td>\n",
       "      <td>0.0</td>\n",
       "      <td>0.01</td>\n",
       "    </tr>\n",
       "    <tr>\n",
       "      <th>16594</th>\n",
       "      <td>16597</td>\n",
       "      <td>Men in Black II: Alien Escape</td>\n",
       "      <td>2003.0</td>\n",
       "      <td>0.01</td>\n",
       "      <td>0.00</td>\n",
       "      <td>0.0</td>\n",
       "      <td>0.0</td>\n",
       "      <td>0.01</td>\n",
       "    </tr>\n",
       "    <tr>\n",
       "      <th>16595</th>\n",
       "      <td>16598</td>\n",
       "      <td>SCORE International Baja 1000: The Official Game</td>\n",
       "      <td>2008.0</td>\n",
       "      <td>0.00</td>\n",
       "      <td>0.00</td>\n",
       "      <td>0.0</td>\n",
       "      <td>0.0</td>\n",
       "      <td>0.01</td>\n",
       "    </tr>\n",
       "    <tr>\n",
       "      <th>16596</th>\n",
       "      <td>16599</td>\n",
       "      <td>Know How 2</td>\n",
       "      <td>2010.0</td>\n",
       "      <td>0.00</td>\n",
       "      <td>0.01</td>\n",
       "      <td>0.0</td>\n",
       "      <td>0.0</td>\n",
       "      <td>0.01</td>\n",
       "    </tr>\n",
       "    <tr>\n",
       "      <th>16597</th>\n",
       "      <td>16600</td>\n",
       "      <td>Spirits &amp; Spells</td>\n",
       "      <td>2003.0</td>\n",
       "      <td>0.01</td>\n",
       "      <td>0.00</td>\n",
       "      <td>0.0</td>\n",
       "      <td>0.0</td>\n",
       "      <td>0.01</td>\n",
       "    </tr>\n",
       "  </tbody>\n",
       "</table>\n",
       "</div>"
      ],
      "text/plain": [
       "        Rank                                              Name    Year  \\\n",
       "16593  16596                Woody Woodpecker in Crazy Castle 5  2002.0   \n",
       "16594  16597                     Men in Black II: Alien Escape  2003.0   \n",
       "16595  16598  SCORE International Baja 1000: The Official Game  2008.0   \n",
       "16596  16599                                        Know How 2  2010.0   \n",
       "16597  16600                                  Spirits & Spells  2003.0   \n",
       "\n",
       "       NA_Sales  EU_Sales  JP_Sales  Other_Sales  Global_Sales  \n",
       "16593      0.01      0.00       0.0          0.0          0.01  \n",
       "16594      0.01      0.00       0.0          0.0          0.01  \n",
       "16595      0.00      0.00       0.0          0.0          0.01  \n",
       "16596      0.00      0.01       0.0          0.0          0.01  \n",
       "16597      0.01      0.00       0.0          0.0          0.01  "
      ]
     },
     "execution_count": 9,
     "metadata": {},
     "output_type": "execute_result"
    }
   ],
   "source": [
    "df.tail()"
   ]
  },
  {
   "cell_type": "code",
   "execution_count": 16,
   "id": "de46b995",
   "metadata": {},
   "outputs": [
    {
     "name": "stdout",
     "output_type": "stream",
     "text": [
      "        Rank                                              Name    Year  \\\n",
      "0          1                                        Wii Sports  2006.0   \n",
      "1          2                                 Super Mario Bros.  1985.0   \n",
      "2          3                                    Mario Kart Wii  2008.0   \n",
      "3          4                                 Wii Sports Resort  2009.0   \n",
      "4          5                          Pokemon Red/Pokemon Blue  1996.0   \n",
      "...      ...                                               ...     ...   \n",
      "16593  16596                Woody Woodpecker in Crazy Castle 5  2002.0   \n",
      "16594  16597                     Men in Black II: Alien Escape  2003.0   \n",
      "16595  16598  SCORE International Baja 1000: The Official Game  2008.0   \n",
      "16596  16599                                        Know How 2  2010.0   \n",
      "16597  16600                                  Spirits & Spells  2003.0   \n",
      "\n",
      "       NA_Sales  EU_Sales  JP_Sales  Other_Sales  Global_Sales  \n",
      "0         41.49     29.02      3.77         8.46         82.74  \n",
      "1         29.08      3.58      6.81         0.77         40.24  \n",
      "2         15.85     12.88      3.79         3.31         35.82  \n",
      "3         15.75     11.01      3.28         2.96         33.00  \n",
      "4         11.27      8.89     10.22         1.00         31.37  \n",
      "...         ...       ...       ...          ...           ...  \n",
      "16593      0.01      0.00      0.00         0.00          0.01  \n",
      "16594      0.01      0.00      0.00         0.00          0.01  \n",
      "16595      0.00      0.00      0.00         0.00          0.01  \n",
      "16596      0.00      0.01      0.00         0.00          0.01  \n",
      "16597      0.01      0.00      0.00         0.00          0.01  \n",
      "\n",
      "[16598 rows x 8 columns]\n"
     ]
    }
   ],
   "source": [
    "print (df)"
   ]
  },
  {
   "cell_type": "code",
   "execution_count": 17,
   "id": "b7d21e6b",
   "metadata": {},
   "outputs": [
    {
     "name": "stdout",
     "output_type": "stream",
     "text": [
      "   Rank                      Name    Year  NA_Sales  EU_Sales  JP_Sales  \\\n",
      "0     1                Wii Sports  2006.0     41.49     29.02      3.77   \n",
      "1     2         Super Mario Bros.  1985.0     29.08      3.58      6.81   \n",
      "2     3            Mario Kart Wii  2008.0     15.85     12.88      3.79   \n",
      "3     4         Wii Sports Resort  2009.0     15.75     11.01      3.28   \n",
      "4     5  Pokemon Red/Pokemon Blue  1996.0     11.27      8.89     10.22   \n",
      "5     6                    Tetris  1989.0     23.20      2.26      4.22   \n",
      "6     7     New Super Mario Bros.  2006.0     11.38      9.23      6.50   \n",
      "\n",
      "   Other_Sales  Global_Sales  \n",
      "0         8.46         82.74  \n",
      "1         0.77         40.24  \n",
      "2         3.31         35.82  \n",
      "3         2.96         33.00  \n",
      "4         1.00         31.37  \n",
      "5         0.58         30.26  \n",
      "6         2.90         30.01  \n"
     ]
    }
   ],
   "source": [
    "print (df.head(7))"
   ]
  },
  {
   "cell_type": "code",
   "execution_count": null,
   "id": "02806e01",
   "metadata": {},
   "outputs": [],
   "source": [
    "#you can also open this as text as shown below"
   ]
  },
  {
   "cell_type": "code",
   "execution_count": 20,
   "id": "04b52ae1",
   "metadata": {
    "scrolled": true
   },
   "outputs": [],
   "source": [
    "#df_xls=pd.read_csv(\"vgsales.txt\", delimiter='\\t')"
   ]
  },
  {
   "cell_type": "code",
   "execution_count": 25,
   "id": "edd2fd23",
   "metadata": {},
   "outputs": [
    {
     "name": "stdout",
     "output_type": "stream",
     "text": [
      "        Rank                                              Name    Year  \\\n",
      "0          1                                        Wii Sports  2006.0   \n",
      "1          2                                 Super Mario Bros.  1985.0   \n",
      "2          3                                    Mario Kart Wii  2008.0   \n",
      "3          4                                 Wii Sports Resort  2009.0   \n",
      "4          5                          Pokemon Red/Pokemon Blue  1996.0   \n",
      "...      ...                                               ...     ...   \n",
      "16593  16596                Woody Woodpecker in Crazy Castle 5  2002.0   \n",
      "16594  16597                     Men in Black II: Alien Escape  2003.0   \n",
      "16595  16598  SCORE International Baja 1000: The Official Game  2008.0   \n",
      "16596  16599                                        Know How 2  2010.0   \n",
      "16597  16600                                  Spirits & Spells  2003.0   \n",
      "\n",
      "       NA_Sales  EU_Sales  JP_Sales  Other_Sales  Global_Sales  \n",
      "0         41.49     29.02      3.77         8.46         82.74  \n",
      "1         29.08      3.58      6.81         0.77         40.24  \n",
      "2         15.85     12.88      3.79         3.31         35.82  \n",
      "3         15.75     11.01      3.28         2.96         33.00  \n",
      "4         11.27      8.89     10.22         1.00         31.37  \n",
      "...         ...       ...       ...          ...           ...  \n",
      "16593      0.01      0.00      0.00         0.00          0.01  \n",
      "16594      0.01      0.00      0.00         0.00          0.01  \n",
      "16595      0.00      0.00      0.00         0.00          0.01  \n",
      "16596      0.00      0.01      0.00         0.00          0.01  \n",
      "16597      0.01      0.00      0.00         0.00          0.01  \n",
      "\n",
      "[16598 rows x 8 columns]\n"
     ]
    }
   ],
   "source": [
    "\n",
    "print(df)"
   ]
  },
  {
   "cell_type": "code",
   "execution_count": null,
   "id": "1bf3aa06",
   "metadata": {},
   "outputs": [],
   "source": [
    "#Reading the headers in pandas "
   ]
  },
  {
   "cell_type": "code",
   "execution_count": 26,
   "id": "479e7648",
   "metadata": {},
   "outputs": [
    {
     "name": "stdout",
     "output_type": "stream",
     "text": [
      "Index(['Rank', 'Name', 'Year', 'NA_Sales', 'EU_Sales', 'JP_Sales',\n",
      "       'Other_Sales', 'Global_Sales'],\n",
      "      dtype='object')\n"
     ]
    }
   ],
   "source": [
    "print (df.columns)"
   ]
  },
  {
   "cell_type": "code",
   "execution_count": 27,
   "id": "9f6960e2",
   "metadata": {},
   "outputs": [
    {
     "name": "stdout",
     "output_type": "stream",
     "text": [
      "0                                              Wii Sports\n",
      "1                                       Super Mario Bros.\n",
      "2                                          Mario Kart Wii\n",
      "3                                       Wii Sports Resort\n",
      "4                                Pokemon Red/Pokemon Blue\n",
      "                               ...                       \n",
      "16593                  Woody Woodpecker in Crazy Castle 5\n",
      "16594                       Men in Black II: Alien Escape\n",
      "16595    SCORE International Baja 1000: The Official Game\n",
      "16596                                          Know How 2\n",
      "16597                                    Spirits & Spells\n",
      "Name: Name, Length: 16598, dtype: object\n"
     ]
    }
   ],
   "source": [
    "print(df['Name'])"
   ]
  },
  {
   "cell_type": "code",
   "execution_count": null,
   "id": "4feb6af5",
   "metadata": {},
   "outputs": [],
   "source": [
    "#You can specify the number of names you want. e.g."
   ]
  },
  {
   "cell_type": "code",
   "execution_count": 29,
   "id": "d80322c9",
   "metadata": {},
   "outputs": [
    {
     "name": "stdout",
     "output_type": "stream",
     "text": [
      "0                  Wii Sports\n",
      "1           Super Mario Bros.\n",
      "2              Mario Kart Wii\n",
      "3           Wii Sports Resort\n",
      "4    Pokemon Red/Pokemon Blue\n",
      "Name: Name, dtype: object\n"
     ]
    }
   ],
   "source": [
    "rint(df['Name'])"
   ]
  },
  {
   "cell_type": "code",
   "execution_count": null,
   "id": "280a78cf",
   "metadata": {},
   "outputs": [],
   "source": [
    "#we can locate the integer using iloc"
   ]
  },
  {
   "cell_type": "code",
   "execution_count": 30,
   "id": "c527f36f",
   "metadata": {},
   "outputs": [
    {
     "name": "stdout",
     "output_type": "stream",
     "text": [
      "Rank                    11\n",
      "Name            Nintendogs\n",
      "Year                2005.0\n",
      "NA_Sales              9.07\n",
      "EU_Sales              11.0\n",
      "JP_Sales              1.93\n",
      "Other_Sales           2.75\n",
      "Global_Sales         24.76\n",
      "Name: 10, dtype: object\n"
     ]
    }
   ],
   "source": [
    "print(df.iloc[10])"
   ]
  },
  {
   "cell_type": "code",
   "execution_count": 31,
   "id": "3d9c633d",
   "metadata": {},
   "outputs": [
    {
     "name": "stdout",
     "output_type": "stream",
     "text": [
      "   Rank               Name    Year  NA_Sales  EU_Sales  JP_Sales  Other_Sales  \\\n",
      "0     1         Wii Sports  2006.0     41.49     29.02      3.77         8.46   \n",
      "1     2  Super Mario Bros.  1985.0     29.08      3.58      6.81         0.77   \n",
      "2     3     Mario Kart Wii  2008.0     15.85     12.88      3.79         3.31   \n",
      "\n",
      "   Global_Sales  \n",
      "0         82.74  \n",
      "1         40.24  \n",
      "2         35.82  \n"
     ]
    }
   ],
   "source": [
    "print(df.iloc[0:3])"
   ]
  },
  {
   "cell_type": "code",
   "execution_count": null,
   "id": "45d0931e",
   "metadata": {},
   "outputs": [],
   "source": []
  }
 ],
 "metadata": {
  "kernelspec": {
   "display_name": "Python 3 (ipykernel)",
   "language": "python",
   "name": "python3"
  },
  "language_info": {
   "codemirror_mode": {
    "name": "ipython",
    "version": 3
   },
   "file_extension": ".py",
   "mimetype": "text/x-python",
   "name": "python",
   "nbconvert_exporter": "python",
   "pygments_lexer": "ipython3",
   "version": "3.11.4"
  }
 },
 "nbformat": 4,
 "nbformat_minor": 5
}
